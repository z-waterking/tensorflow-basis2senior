{
 "cells": [
  {
   "cell_type": "markdown",
   "metadata": {},
   "source": [
    "# 基本数学操作\n",
    "首先是对向量的 +,-,*,/,乘方，根号 等操作\n",
    "\n",
    "如果想对向量与标量（单个值）进行操作，直接用python的语法操作即可"
   ]
  },
  {
   "cell_type": "code",
   "execution_count": 1,
   "metadata": {},
   "outputs": [],
   "source": [
    "import tensorflow as tf"
   ]
  },
  {
   "cell_type": "code",
   "execution_count": 2,
   "metadata": {},
   "outputs": [],
   "source": [
    "sess = tf.Session()"
   ]
  },
  {
   "cell_type": "code",
   "execution_count": 3,
   "metadata": {},
   "outputs": [],
   "source": [
    "v_1 = tf.constant([1, 2, 3, 4], dtype = tf.float32)\n",
    "v_2 = tf.constant([5, 6, 7, 8], dtype = tf.float32)"
   ]
  },
  {
   "cell_type": "code",
   "execution_count": 4,
   "metadata": {
    "scrolled": true
   },
   "outputs": [
    {
     "name": "stdout",
     "output_type": "stream",
     "text": [
      "Tensor(\"Const:0\", shape=(4,), dtype=float32)\n"
     ]
    }
   ],
   "source": [
    "# 看一下v_1的内容：这里标识了它是一个常量及它的shape和数据类型\n",
    "print(v_1)"
   ]
  },
  {
   "cell_type": "code",
   "execution_count": 5,
   "metadata": {},
   "outputs": [
    {
     "name": "stdout",
     "output_type": "stream",
     "text": [
      "[array([ 6.,  8., 10., 12.], dtype=float32), array([-4., -4., -4., -4.], dtype=float32), array([ 5., 12., 21., 32.], dtype=float32), array([5.       , 3.       , 2.3333333, 2.       ], dtype=float32), array([ 1.,  4.,  9., 16.], dtype=float32), array([2.236068 , 2.4494896, 2.6457512, 2.8284268], dtype=float32)]\n"
     ]
    }
   ],
   "source": [
    "# 向量相加\n",
    "v_add = tf.add(v_1, v_2)\n",
    "\n",
    "# 向量相减\n",
    "v_sub = tf.subtract(v_1, v_2)\n",
    "\n",
    "# 向量对应元素相乘\n",
    "v_mul = tf.multiply(v_1, v_2)\n",
    "\n",
    "# 向量相除\n",
    "v_div = tf.div(v_2, v_1)\n",
    "\n",
    "# 向量的乘方\n",
    "v_pow = tf.pow(v_1, 2)\n",
    "\n",
    "# 向量的根号，这里必须得是浮点数\n",
    "v_sqrt = tf.sqrt(v_2)\n",
    "\n",
    "# 可以一把将所有的向量全部打印\n",
    "need_print_tensors = [v_add, v_sub, v_mul, v_div, v_pow, v_sqrt]\n",
    "\n",
    "print(sess.run(need_print_tensors))"
   ]
  },
  {
   "cell_type": "markdown",
   "metadata": {},
   "source": [
    "# 矩阵运算\n",
    "\n",
    "向量的基本运算告一段落。接下里进入矩阵运算。\n",
    "\n",
    "矩阵的按元素操作与向量是一致的。可参考上文。\n",
    "\n",
    "不同点在于矩阵乘法：\n",
    "\n",
    "* **multiply** 为点乘，是矩阵中的逐元素相乘\n",
    "* **matmul** 为矩阵乘法，与线性代数中的矩阵乘法一致，要求 左 矩阵的 列 等于 右 矩阵的 行"
   ]
  },
  {
   "cell_type": "code",
   "execution_count": 6,
   "metadata": {},
   "outputs": [],
   "source": [
    "# 先建立两个最基本的矩阵\n",
    "# 为了方便，直接指定比较简单的值\n",
    "matrix_a = tf.constant([\n",
    "    [1, 2],\n",
    "    [3, 4]\n",
    "])\n",
    "\n",
    "matrix_b = tf.constant([\n",
    "    [0, 1],\n",
    "    [1, 0]\n",
    "])"
   ]
  },
  {
   "cell_type": "code",
   "execution_count": 7,
   "metadata": {},
   "outputs": [
    {
     "data": {
      "text/plain": [
       "array([[2, 1],\n",
       "       [4, 3]], dtype=int32)"
      ]
     },
     "execution_count": 7,
     "metadata": {},
     "output_type": "execute_result"
    }
   ],
   "source": [
    "# 注意这里是 **matmul** 而不是 multiply，因此这里是矩阵乘法\n",
    "matrix_mul = tf.matmul(matrix_a, matrix_b)\n",
    "sess.run(matrix_mul)"
   ]
  },
  {
   "cell_type": "markdown",
   "metadata": {},
   "source": [
    "# 矩阵变换\n",
    "\n",
    "矩阵变换是在运算过程中，对矩阵的形状、数据类型等进行变换的操作。\n",
    "\n",
    "矩阵变换一般发生在两个需要做运算的矩阵不匹配了，需要对其中一个进行变换，以使得满足运算条件。\n",
    "\n",
    "**注意：** 虽然tf提供了一定的补充（兜底）操作，使得你的矩阵稍有一些不匹配它也帮你补全，正常进行运算。\n",
    "\n",
    "但是我们在编程时不要用，而应该显式地将每个操作都处理清楚。\n",
    "\n",
    "变换主要有以下几类：\n",
    "\n",
    "1. 矩阵的形状变换\n",
    "2. 矩阵的转置\n",
    "3. 矩阵的逆\n",
    "4. 矩阵切片\n",
    "5. 矩阵增加维度\n",
    "6. 矩阵降低维度\n"
   ]
  },
  {
   "cell_type": "code",
   "execution_count": 9,
   "metadata": {},
   "outputs": [
    {
     "name": "stdout",
     "output_type": "stream",
     "text": [
      "(2, 2)\n"
     ]
    }
   ],
   "source": [
    "# 矩阵形状变换\n",
    "matrix_a = tf.constant([\n",
    "    [1, 2],\n",
    "    [3, 4]\n",
    "], dtype = tf.float32)\n",
    "\n",
    "# shape = (2, 2)\n",
    "print(matrix_a.shape)"
   ]
  },
  {
   "cell_type": "code",
   "execution_count": 10,
   "metadata": {
    "scrolled": true
   },
   "outputs": [
    {
     "name": "stdout",
     "output_type": "stream",
     "text": [
      "(4, 1)\n"
     ]
    }
   ],
   "source": [
    "# 1. 矩阵的形状变换\n",
    "# tf.reshape操作，将一个矩阵的形状进行变换\n",
    "# -1 代表这一维是根据其他维度来确定的\n",
    "matrix_reshape = tf.reshape(matrix_a, (-1, 1))\n",
    "print(matrix_reshape.shape)"
   ]
  },
  {
   "cell_type": "code",
   "execution_count": 11,
   "metadata": {},
   "outputs": [
    {
     "data": {
      "text/plain": [
       "array([[1., 3.],\n",
       "       [2., 4.]], dtype=float32)"
      ]
     },
     "execution_count": 11,
     "metadata": {},
     "output_type": "execute_result"
    }
   ],
   "source": [
    "# 2. 矩阵的转置\n",
    "matrix_transpose = tf.transpose(matrix_a)\n",
    "sess.run(matrix_transpose)"
   ]
  },
  {
   "cell_type": "code",
   "execution_count": 12,
   "metadata": {},
   "outputs": [
    {
     "data": {
      "text/plain": [
       "array([[-2.0000002 ,  1.0000001 ],\n",
       "       [ 1.5000001 , -0.50000006]], dtype=float32)"
      ]
     },
     "execution_count": 12,
     "metadata": {},
     "output_type": "execute_result"
    }
   ],
   "source": [
    "# 3. 矩阵的逆\n",
    "inverse_matrix = tf.matrix_inverse(matrix_a)\n",
    "sess.run(inverse_matrix)"
   ]
  },
  {
   "cell_type": "code",
   "execution_count": 13,
   "metadata": {},
   "outputs": [
    {
     "data": {
      "text/plain": [
       "array([[2., 3.],\n",
       "       [3., 4.],\n",
       "       [6., 7.]], dtype=float32)"
      ]
     },
     "execution_count": 13,
     "metadata": {},
     "output_type": "execute_result"
    }
   ],
   "source": [
    "# 4. 矩阵切片\n",
    "# 主要用到tf.slice函数\n",
    "\n",
    "matrix_b = tf.constant([\n",
    "    [1, 2, 3, 4],\n",
    "    [2, 3, 4, 5],\n",
    "    [5, 6, 7, 8]\n",
    "], dtype = tf.float32)\n",
    "\n",
    "# 从x[0,1],即元素2开始抽取\n",
    "begin = [0,1]  \n",
    "# 从x[0,1]开始，\n",
    "# 对x的第一个维度（行）抽取3个元素，再对x的第二个维度（列）抽取2个元素\n",
    "# 即最后想变成 3 * 2的矩阵\n",
    "size = [3,2]\n",
    "\n",
    "matrix_slice = tf.slice(matrix_b, begin, size)\n",
    "sess.run(matrix_slice)"
   ]
  },
  {
   "cell_type": "markdown",
   "metadata": {},
   "source": [
    "## 关于维度的说明\n",
    "\n",
    "tf中的维度想要理解，需要层层将它剥开，我们从最容易理解的二维形式开始。\n",
    "\n",
    "若一个tensor的值为：\n",
    "\n",
    "```\n",
    "[\n",
    "    [1, 2],\n",
    "    [3, 4]\n",
    "]\n",
    "```\n",
    "\n",
    "则它的维度为（2,2)，前一个2表示有两个列表，后一个2表示每个列表中有两个元素。\n",
    "\n",
    "若变成了\n",
    "\n",
    "```\n",
    "[\n",
    "    [\n",
    "        [1, 2],\n",
    "        [3, 4]\n",
    "    ]\n",
    "]\n",
    "```\n",
    "\n",
    "则它的维度为（1, 2, 2), 最前面加了个1，表示最外层有1个列表，这个列表中有两个列表，最底层的每个列表中有2个元素"
   ]
  },
  {
   "cell_type": "code",
   "execution_count": 22,
   "metadata": {},
   "outputs": [
    {
     "name": "stdout",
     "output_type": "stream",
     "text": [
      "('before expand', TensorShape([Dimension(1), Dimension(2)]))\n",
      "('after expand', TensorShape([Dimension(1), Dimension(1), Dimension(2)]))\n"
     ]
    }
   ],
   "source": [
    "# 5. 矩阵增加维度:tf.expand_dims\n",
    "matrix_c = tf.constant([[1, 2]])\n",
    "# 1 * 2\n",
    "print('before expand',matrix_c.shape)\n",
    "\n",
    "# 增加一个维度\n",
    "matrix_expand_dim = tf.expand_dims(matrix_c, 0)\n",
    "print('after expand', matrix_expand_dim.shape)"
   ]
  },
  {
   "cell_type": "code",
   "execution_count": 26,
   "metadata": {
    "scrolled": true
   },
   "outputs": [
    {
     "name": "stdout",
     "output_type": "stream",
     "text": [
      "('after squeeze axis0', TensorShape([Dimension(1), Dimension(2)]))\n",
      "('after squeeze all', TensorShape([Dimension(2)]))\n"
     ]
    }
   ],
   "source": [
    "# 6. 矩阵降低维度，指定axis时会将指定维度删掉，若不指定，则会将所有为1的维度全部删掉\n",
    "matrix_squeeze_axis0 = tf.squeeze(matrix_expand_dim, axis = 0)\n",
    "matrix_squeeze_all = tf.squeeze(matrix_expand_dim)\n",
    "print('after squeeze axis0', matrix_squeeze_axis0.shape)\n",
    "print('after squeeze all', matrix_squeeze_all.shape)"
   ]
  },
  {
   "cell_type": "code",
   "execution_count": null,
   "metadata": {},
   "outputs": [],
   "source": []
  }
 ],
 "metadata": {
  "kernelspec": {
   "display_name": "Python 2",
   "language": "python",
   "name": "python2"
  },
  "language_info": {
   "codemirror_mode": {
    "name": "ipython",
    "version": 2
   },
   "file_extension": ".py",
   "mimetype": "text/x-python",
   "name": "python",
   "nbconvert_exporter": "python",
   "pygments_lexer": "ipython2",
   "version": "2.7.18"
  }
 },
 "nbformat": 4,
 "nbformat_minor": 2
}
