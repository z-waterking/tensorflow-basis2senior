{
 "cells": [
  {
   "cell_type": "markdown",
   "metadata": {},
   "source": [
    "# 名称空间和变量\n",
    "\n",
    "## 名称空间\n",
    "\n",
    "在模型简单的时候，所有的问题都不会暴露出来。\n",
    "\n",
    "想象一个有N(>=100)个参数的模型，如果不用名称空间，那么你起的名字大概率会是难以分辨，最终导致难以维护\n",
    "\n",
    "还记得之前提过的变量名字吗？这里的名称空间等于给每一个变量名字加上一个前缀（扣上一个帽子），使得它们可以分门别类。\n",
    "\n",
    "## 变量空间\n",
    "\n",
    "其次，对于许多变量，是需要重复使用的。\n",
    "\n",
    "因此，变量空间除了起到区别变量的作用，在同一个变量空间下的变量是可以根据name重复/跨函数使用的。\n",
    "\n",
    "## 区分\n",
    "1. tf.Variable\n",
    "2. tf.get_variable\n",
    "3. tf.name_scope\n",
    "4. tf.variable_scope"
   ]
  },
  {
   "cell_type": "code",
   "execution_count": 1,
   "metadata": {},
   "outputs": [],
   "source": [
    "import tensorflow as tf"
   ]
  },
  {
   "cell_type": "markdown",
   "metadata": {},
   "source": [
    "## 创建一个变量\n",
    "\n",
    "当大家都从0创建时，tf.Variable和tf.get_variable是完全一样的。\n",
    "\n",
    "只不过get_variable需要提供名称。"
   ]
  },
  {
   "cell_type": "code",
   "execution_count": 2,
   "metadata": {},
   "outputs": [
    {
     "name": "stdout",
     "output_type": "stream",
     "text": [
      "('v1', <tf.Variable 'v:0' shape=(1,) dtype=float32_ref>)\n",
      "('v2', <tf.Variable 'v_1:0' shape=(1,) dtype=float32_ref>)\n"
     ]
    }
   ],
   "source": [
    "# 这里命名冲突时，tf.Variable自动处理冲突问题\n",
    "v1 = tf.Variable(tf.constant(1.0, shape = [1]), name = 'v')\n",
    "v2 = tf.Variable(tf.constant(1.0, shape = [1]), name = 'v')\n",
    "\n",
    "print('v1', v1)\n",
    "print('v2', v2)"
   ]
  },
  {
   "cell_type": "markdown",
   "metadata": {},
   "source": [
    "tf.get_variable在没有设置命名空间reuse的情况下变量命名冲突时报错"
   ]
  },
  {
   "cell_type": "code",
   "execution_count": 3,
   "metadata": {
    "collapsed": true
   },
   "outputs": [
    {
     "ename": "ValueError",
     "evalue": "Variable a already exists, disallowed. Did you mean to set reuse=True or reuse=tf.AUTO_REUSE in VarScope? Originally defined at:\n\n  File \"<ipython-input-3-d02681f33c8f>\", line 3, in <module>\n    v3 = tf.get_variable(name = 'a', shape = [1], initializer=tf.constant_initializer(1.0))\n  File \"/Users/zsf/opt/anaconda3/envs/py27/lib/python2.7/site-packages/IPython/core/interactiveshell.py\", line 2878, in run_code\n    exec(code_obj, self.user_global_ns, self.user_ns)\n  File \"/Users/zsf/opt/anaconda3/envs/py27/lib/python2.7/site-packages/IPython/core/interactiveshell.py\", line 2818, in run_ast_nodes\n    if self.run_code(code, result):\n",
     "output_type": "error",
     "traceback": [
      "\u001b[0;31m---------------------------------------------------------------------------\u001b[0m",
      "\u001b[0;31mValueError\u001b[0m                                Traceback (most recent call last)",
      "\u001b[0;32m<ipython-input-3-d02681f33c8f>\u001b[0m in \u001b[0;36m<module>\u001b[0;34m()\u001b[0m\n\u001b[1;32m      2\u001b[0m \u001b[0;31m# 你再运行一次，就会报错。原因是'v2'这个变量名缩在的名称空间并不是可重用的\u001b[0m\u001b[0;34m\u001b[0m\u001b[0;34m\u001b[0m\u001b[0m\n\u001b[1;32m      3\u001b[0m \u001b[0mv3\u001b[0m \u001b[0;34m=\u001b[0m \u001b[0mtf\u001b[0m\u001b[0;34m.\u001b[0m\u001b[0mget_variable\u001b[0m\u001b[0;34m(\u001b[0m\u001b[0mname\u001b[0m \u001b[0;34m=\u001b[0m \u001b[0;34m'a'\u001b[0m\u001b[0;34m,\u001b[0m \u001b[0mshape\u001b[0m \u001b[0;34m=\u001b[0m \u001b[0;34m[\u001b[0m\u001b[0;36m1\u001b[0m\u001b[0;34m]\u001b[0m\u001b[0;34m,\u001b[0m \u001b[0minitializer\u001b[0m\u001b[0;34m=\u001b[0m\u001b[0mtf\u001b[0m\u001b[0;34m.\u001b[0m\u001b[0mconstant_initializer\u001b[0m\u001b[0;34m(\u001b[0m\u001b[0;36m1.0\u001b[0m\u001b[0;34m)\u001b[0m\u001b[0;34m)\u001b[0m\u001b[0;34m\u001b[0m\u001b[0m\n\u001b[0;32m----> 4\u001b[0;31m \u001b[0mv4\u001b[0m \u001b[0;34m=\u001b[0m \u001b[0mtf\u001b[0m\u001b[0;34m.\u001b[0m\u001b[0mget_variable\u001b[0m\u001b[0;34m(\u001b[0m\u001b[0mname\u001b[0m \u001b[0;34m=\u001b[0m \u001b[0;34m'a'\u001b[0m\u001b[0;34m,\u001b[0m \u001b[0mshape\u001b[0m \u001b[0;34m=\u001b[0m \u001b[0;34m[\u001b[0m\u001b[0;36m1\u001b[0m\u001b[0;34m]\u001b[0m\u001b[0;34m,\u001b[0m \u001b[0minitializer\u001b[0m\u001b[0;34m=\u001b[0m\u001b[0mtf\u001b[0m\u001b[0;34m.\u001b[0m\u001b[0mconstant_initializer\u001b[0m\u001b[0;34m(\u001b[0m\u001b[0;36m1.0\u001b[0m\u001b[0;34m)\u001b[0m\u001b[0;34m)\u001b[0m\u001b[0;34m\u001b[0m\u001b[0m\n\u001b[0m\u001b[1;32m      5\u001b[0m \u001b[0;34m\u001b[0m\u001b[0m\n\u001b[1;32m      6\u001b[0m \u001b[0;32mprint\u001b[0m\u001b[0;34m(\u001b[0m\u001b[0;34m'v3'\u001b[0m\u001b[0;34m,\u001b[0m \u001b[0mv3\u001b[0m\u001b[0;34m)\u001b[0m\u001b[0;34m\u001b[0m\u001b[0m\n",
      "\u001b[0;32m/Users/zsf/opt/anaconda3/envs/py27/lib/python2.7/site-packages/tensorflow/python/ops/variable_scope.pyc\u001b[0m in \u001b[0;36mget_variable\u001b[0;34m(name, shape, dtype, initializer, regularizer, trainable, collections, caching_device, partitioner, validate_shape, use_resource, custom_getter, constraint, synchronization, aggregation)\u001b[0m\n\u001b[1;32m   1465\u001b[0m       \u001b[0mconstraint\u001b[0m\u001b[0;34m=\u001b[0m\u001b[0mconstraint\u001b[0m\u001b[0;34m,\u001b[0m\u001b[0;34m\u001b[0m\u001b[0m\n\u001b[1;32m   1466\u001b[0m       \u001b[0msynchronization\u001b[0m\u001b[0;34m=\u001b[0m\u001b[0msynchronization\u001b[0m\u001b[0;34m,\u001b[0m\u001b[0;34m\u001b[0m\u001b[0m\n\u001b[0;32m-> 1467\u001b[0;31m       aggregation=aggregation)\n\u001b[0m\u001b[1;32m   1468\u001b[0m \u001b[0;34m\u001b[0m\u001b[0m\n\u001b[1;32m   1469\u001b[0m \u001b[0;34m\u001b[0m\u001b[0m\n",
      "\u001b[0;32m/Users/zsf/opt/anaconda3/envs/py27/lib/python2.7/site-packages/tensorflow/python/ops/variable_scope.pyc\u001b[0m in \u001b[0;36mget_variable\u001b[0;34m(self, var_store, name, shape, dtype, initializer, regularizer, reuse, trainable, collections, caching_device, partitioner, validate_shape, use_resource, custom_getter, constraint, synchronization, aggregation)\u001b[0m\n\u001b[1;32m   1215\u001b[0m           \u001b[0mconstraint\u001b[0m\u001b[0;34m=\u001b[0m\u001b[0mconstraint\u001b[0m\u001b[0;34m,\u001b[0m\u001b[0;34m\u001b[0m\u001b[0m\n\u001b[1;32m   1216\u001b[0m           \u001b[0msynchronization\u001b[0m\u001b[0;34m=\u001b[0m\u001b[0msynchronization\u001b[0m\u001b[0;34m,\u001b[0m\u001b[0;34m\u001b[0m\u001b[0m\n\u001b[0;32m-> 1217\u001b[0;31m           aggregation=aggregation)\n\u001b[0m\u001b[1;32m   1218\u001b[0m \u001b[0;34m\u001b[0m\u001b[0m\n\u001b[1;32m   1219\u001b[0m   def _get_partitioned_variable(self,\n",
      "\u001b[0;32m/Users/zsf/opt/anaconda3/envs/py27/lib/python2.7/site-packages/tensorflow/python/ops/variable_scope.pyc\u001b[0m in \u001b[0;36mget_variable\u001b[0;34m(self, name, shape, dtype, initializer, regularizer, reuse, trainable, collections, caching_device, partitioner, validate_shape, use_resource, custom_getter, constraint, synchronization, aggregation)\u001b[0m\n\u001b[1;32m    525\u001b[0m           \u001b[0mconstraint\u001b[0m\u001b[0;34m=\u001b[0m\u001b[0mconstraint\u001b[0m\u001b[0;34m,\u001b[0m\u001b[0;34m\u001b[0m\u001b[0m\n\u001b[1;32m    526\u001b[0m           \u001b[0msynchronization\u001b[0m\u001b[0;34m=\u001b[0m\u001b[0msynchronization\u001b[0m\u001b[0;34m,\u001b[0m\u001b[0;34m\u001b[0m\u001b[0m\n\u001b[0;32m--> 527\u001b[0;31m           aggregation=aggregation)\n\u001b[0m\u001b[1;32m    528\u001b[0m \u001b[0;34m\u001b[0m\u001b[0m\n\u001b[1;32m    529\u001b[0m   def _get_partitioned_variable(self,\n",
      "\u001b[0;32m/Users/zsf/opt/anaconda3/envs/py27/lib/python2.7/site-packages/tensorflow/python/ops/variable_scope.pyc\u001b[0m in \u001b[0;36m_true_getter\u001b[0;34m(name, shape, dtype, initializer, regularizer, reuse, trainable, collections, caching_device, partitioner, validate_shape, use_resource, constraint, synchronization, aggregation)\u001b[0m\n\u001b[1;32m    479\u001b[0m           \u001b[0mconstraint\u001b[0m\u001b[0;34m=\u001b[0m\u001b[0mconstraint\u001b[0m\u001b[0;34m,\u001b[0m\u001b[0;34m\u001b[0m\u001b[0m\n\u001b[1;32m    480\u001b[0m           \u001b[0msynchronization\u001b[0m\u001b[0;34m=\u001b[0m\u001b[0msynchronization\u001b[0m\u001b[0;34m,\u001b[0m\u001b[0;34m\u001b[0m\u001b[0m\n\u001b[0;32m--> 481\u001b[0;31m           aggregation=aggregation)\n\u001b[0m\u001b[1;32m    482\u001b[0m \u001b[0;34m\u001b[0m\u001b[0m\n\u001b[1;32m    483\u001b[0m     \u001b[0;31m# Set trainable value based on synchronization value.\u001b[0m\u001b[0;34m\u001b[0m\u001b[0;34m\u001b[0m\u001b[0m\n",
      "\u001b[0;32m/Users/zsf/opt/anaconda3/envs/py27/lib/python2.7/site-packages/tensorflow/python/ops/variable_scope.pyc\u001b[0m in \u001b[0;36m_get_single_variable\u001b[0;34m(self, name, shape, dtype, initializer, regularizer, partition_info, reuse, trainable, collections, caching_device, validate_shape, use_resource, constraint, synchronization, aggregation)\u001b[0m\n\u001b[1;32m    846\u001b[0m                          \u001b[0;34m\"reuse=tf.AUTO_REUSE in VarScope? \"\u001b[0m\u001b[0;34m\u001b[0m\u001b[0m\n\u001b[1;32m    847\u001b[0m                          \"Originally defined at:\\n\\n%s\" % (\n\u001b[0;32m--> 848\u001b[0;31m                              name, \"\".join(traceback.format_list(tb))))\n\u001b[0m\u001b[1;32m    849\u001b[0m       \u001b[0mfound_var\u001b[0m \u001b[0;34m=\u001b[0m \u001b[0mself\u001b[0m\u001b[0;34m.\u001b[0m\u001b[0m_vars\u001b[0m\u001b[0;34m[\u001b[0m\u001b[0mname\u001b[0m\u001b[0;34m]\u001b[0m\u001b[0;34m\u001b[0m\u001b[0m\n\u001b[1;32m    850\u001b[0m       \u001b[0;32mif\u001b[0m \u001b[0;32mnot\u001b[0m \u001b[0mshape\u001b[0m\u001b[0;34m.\u001b[0m\u001b[0mis_compatible_with\u001b[0m\u001b[0;34m(\u001b[0m\u001b[0mfound_var\u001b[0m\u001b[0;34m.\u001b[0m\u001b[0mget_shape\u001b[0m\u001b[0;34m(\u001b[0m\u001b[0;34m)\u001b[0m\u001b[0;34m)\u001b[0m\u001b[0;34m:\u001b[0m\u001b[0;34m\u001b[0m\u001b[0m\n",
      "\u001b[0;31mValueError\u001b[0m: Variable a already exists, disallowed. Did you mean to set reuse=True or reuse=tf.AUTO_REUSE in VarScope? Originally defined at:\n\n  File \"<ipython-input-3-d02681f33c8f>\", line 3, in <module>\n    v3 = tf.get_variable(name = 'a', shape = [1], initializer=tf.constant_initializer(1.0))\n  File \"/Users/zsf/opt/anaconda3/envs/py27/lib/python2.7/site-packages/IPython/core/interactiveshell.py\", line 2878, in run_code\n    exec(code_obj, self.user_global_ns, self.user_ns)\n  File \"/Users/zsf/opt/anaconda3/envs/py27/lib/python2.7/site-packages/IPython/core/interactiveshell.py\", line 2818, in run_ast_nodes\n    if self.run_code(code, result):\n"
     ]
    }
   ],
   "source": [
    "# 这里第一次运行时，等于是新建一个变量，不会报错\n",
    "# 你再运行一次，就会报错。原因是'v2'这个变量名缩在的名称空间并不是可重用的\n",
    "v3 = tf.get_variable(name = 'a', shape = [1], initializer=tf.constant_initializer(1.0))\n",
    "v4 = tf.get_variable(name = 'a', shape = [1], initializer=tf.constant_initializer(1.0))\n",
    "\n",
    "print('v3', v3)\n",
    "print('v4', v4)"
   ]
  },
  {
   "cell_type": "markdown",
   "metadata": {},
   "source": [
    "## name_scope\n",
    "\n",
    "tf.name_scope没有**reuse**功能\n",
    "\n",
    "tf.get_variable命名不受它影响，并且命名冲突时报错\n",
    "\n",
    "tf.Variable命名受它影响"
   ]
  },
  {
   "cell_type": "code",
   "execution_count": 4,
   "metadata": {},
   "outputs": [
    {
     "name": "stdout",
     "output_type": "stream",
     "text": [
      "('s1', <tf.Variable 's:0' shape=(1,) dtype=float32_ref>)\n",
      "('s2', <tf.Variable 'layer0/ns_s:0' shape=(1,) dtype=float32_ref>)\n",
      "('s3', <tf.Variable 'layer0/ns_s_1:0' shape=(1,) dtype=float32_ref>)\n",
      "('s4', <tf.Variable 'ns_s:0' shape=(1,) dtype=float32_ref>)\n"
     ]
    }
   ],
   "source": [
    "s1 = tf.Variable(tf.constant(1.0, shape = [1]), name = 's')\n",
    "with tf.name_scope('layer0'):\n",
    "    s2 = tf.Variable(tf.constant(1.0, shape = [1]), name = 'ns_s')\n",
    "    s3 = tf.Variable(tf.constant(1.0, shape = [1]), name = 'ns_s')\n",
    "    s4 = tf.get_variable(name = 'ns_s', shape = [1], initializer=tf.constant_initializer(1.0))\n",
    "\n",
    "# 可以看到这里的 s2 和 s3 的名字是加上了前缀的，\n",
    "print('s1', s1)\n",
    "print('s2', s2)\n",
    "print('s3', s3)\n",
    "print('s4', s4)"
   ]
  },
  {
   "cell_type": "markdown",
   "metadata": {},
   "source": [
    "## variable_scope\n",
    "\n",
    "tf.variable_scope可以配tf.get_variable实现变量共享；reuse默认为None，有False/True/tf.AUTO_REUSE可选：\n",
    "\n",
    "* 设置reuse = None/False 时，tf.get_variable创建新变量，变量存在则报错\n",
    "* 设置reuse = True 时tf.get_variable只获取已存在的变量，变量不存在时报错\n",
    "* 设置reuse = tf.AUTO_REUSE 时tf.get_variable在变量已存在则自动复用，不存在则创建"
   ]
  },
  {
   "cell_type": "code",
   "execution_count": 5,
   "metadata": {
    "scrolled": true
   },
   "outputs": [
    {
     "name": "stdout",
     "output_type": "stream",
     "text": [
      "('a1', <tf.Variable 'layer1/vs_a:0' shape=(1,) dtype=float32_ref>)\n",
      "('a2', <tf.Variable 'layer1/vs_a_1:0' shape=(1,) dtype=float32_ref>)\n",
      "('a1==a2?', False)\n",
      "('a3', <tf.Variable 'layer1/vs_a_2:0' shape=(1,) dtype=float32_ref>)\n",
      "('a4', <tf.Variable 'layer1/vs_a_2:0' shape=(1,) dtype=float32_ref>)\n",
      "('a3==a4?', True)\n"
     ]
    }
   ],
   "source": [
    "with tf.variable_scope('layer1',reuse=tf.AUTO_REUSE):\n",
    "    # Variable会自动新建变量\n",
    "    a1 = tf.Variable(tf.constant(1.0, shape=[1]),name=\"vs_a\")\n",
    "    a2 = tf.Variable(tf.constant(1.0, shape=[1]),name=\"vs_a\")\n",
    "    # 新建一个名字为 a 的变量\n",
    "    a3 = tf.get_variable(\"vs_a\", shape=[1], initializer=tf.constant_initializer(1.0))\n",
    "    # 复用了a3,因为a3是由 get_variable 创建的\n",
    "    a4 = tf.get_variable(\"vs_a\", shape=[1], initializer=tf.constant_initializer(1.0))\n",
    "    print('a1', a1) \n",
    "    print('a2', a2)\n",
    "    print('a1==a2?',a1==a2)\n",
    "    print('a3', a3)\n",
    "    print('a4', a4)\n",
    "    print('a3==a4?',a3==a4)"
   ]
  },
  {
   "cell_type": "code",
   "execution_count": null,
   "metadata": {},
   "outputs": [],
   "source": []
  }
 ],
 "metadata": {
  "kernelspec": {
   "display_name": "Python 2",
   "language": "python",
   "name": "python2"
  },
  "language_info": {
   "codemirror_mode": {
    "name": "ipython",
    "version": 2
   },
   "file_extension": ".py",
   "mimetype": "text/x-python",
   "name": "python",
   "nbconvert_exporter": "python",
   "pygments_lexer": "ipython2",
   "version": "2.7.18"
  }
 },
 "nbformat": 4,
 "nbformat_minor": 2
}
