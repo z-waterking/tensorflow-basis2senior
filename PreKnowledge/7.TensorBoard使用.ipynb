{
 "cells": [
  {
   "cell_type": "markdown",
   "metadata": {},
   "source": [
    "# TensorBoard使用\n",
    "\n",
    "在tf运行过程中，有大量的参数需要我们去观测。\n",
    "\n",
    "例如模型运行的loss是否在收敛，学习率的大小变化，甚至网络层的参数变化。\n",
    "\n",
    "tensorboard可以将这些指标进行可视化。\n",
    "\n",
    "借用之前的线性函数来进行说明。"
   ]
  },
  {
   "cell_type": "markdown",
   "metadata": {},
   "source": [
    "## 在图中将需要看的数据加入tf.summary"
   ]
  },
  {
   "cell_type": "code",
   "execution_count": 2,
   "metadata": {},
   "outputs": [],
   "source": [
    "import tensorflow as tf\n",
    "import numpy as np\n",
    "# ## 构造数据\n",
    "# \n",
    "# 直接随机生成训练数据\n",
    "\n",
    "\n",
    "# 先随机创建一条向量，做出一个线性函数: y = x * 0.1 + 0.3\n",
    "x_data = np.random.rand(100).astype(\"float32\")\n",
    "y_data = x_data * 0.1 + 0.3\n",
    "\n",
    "with tf.name_scope(\"weights\"):\n",
    "    W = tf.Variable(tf.random_uniform([1], -1.0, 1.0))\n",
    "    # 将W输出\n",
    "    tf.summary.histogram(\"weights\", W)\n",
    "\n",
    "with tf.name_scope(\"bias\"):\n",
    "    b = tf.Variable(tf.zeros([1]))\n",
    "    # 将b输出\n",
    "    tf.summary.histogram(\"bias\", b)\n",
    "\n",
    "y = W * x_data + b\n",
    "\n",
    "# 最小化均方误差\n",
    "loss = tf.reduce_mean(tf.square(y - y_data))\n",
    "\n",
    "# 梯度下降优化器\n",
    "optimizer = tf.train.GradientDescentOptimizer(0.5)\n",
    "\n",
    "# 训练朝使得loss下降的方向进行\n",
    "train = optimizer.minimize(loss)\n",
    "\n",
    "# 开始训练前，初始化所有参数\n",
    "init = tf.global_variables_initializer()"
   ]
  },
  {
   "cell_type": "code",
   "execution_count": 3,
   "metadata": {},
   "outputs": [],
   "source": [
    "tf.summary.scalar(\"loss\", loss)\n",
    "\n",
    "# 将所有的summary进行merge操作\n",
    "summary_op = tf.summary.merge_all()"
   ]
  },
  {
   "cell_type": "code",
   "execution_count": 4,
   "metadata": {},
   "outputs": [
    {
     "name": "stdout",
     "output_type": "stream",
     "text": [
      "(0, array([0.72605413], dtype=float32), array([-0.04289599], dtype=float32))\n",
      "(20, array([0.25355074], dtype=float32), array([0.22010884], dtype=float32))\n",
      "(40, array([0.13724293], dtype=float32), array([0.28062284], dtype=float32))\n",
      "(60, array([0.10903306], dtype=float32), array([0.2953002], dtype=float32))\n",
      "(80, array([0.10219093], dtype=float32), array([0.2988601], dtype=float32))\n",
      "(100, array([0.10053139], dtype=float32), array([0.29972354], dtype=float32))\n",
      "(120, array([0.10012887], dtype=float32), array([0.29993296], dtype=float32))\n",
      "(140, array([0.10003127], dtype=float32), array([0.29998374], dtype=float32))\n",
      "(160, array([0.1000076], dtype=float32), array([0.29999605], dtype=float32))\n",
      "(180, array([0.10000186], dtype=float32), array([0.29999906], dtype=float32))\n",
      "(200, array([0.10000047], dtype=float32), array([0.29999977], dtype=float32))\n"
     ]
    }
   ],
   "source": [
    "\n",
    "# 构建图\n",
    "with tf.Session() as sess:\n",
    "    # 第一个参数指定生成文件的目录。\n",
    "    summary_writer = tf.summary.FileWriter(\"logs/\", sess.graph)\n",
    "    # 初始化变量\n",
    "    sess.run(init)\n",
    "\n",
    "    # 拟合这条线\n",
    "    for step in range(201):\n",
    "        sess.run(train)\n",
    "        # 将summary加入运行图中\n",
    "        summary_str = sess.run(summary_op)\n",
    "        summary_writer.add_summary(summary_str, step)\n",
    "        \n",
    "        if step % 20 == 0:\n",
    "            print(step, sess.run(W), sess.run(b))"
   ]
  },
  {
   "cell_type": "markdown",
   "metadata": {},
   "source": [
    "## 本地启动tensorboard进行数据的查看"
   ]
  },
  {
   "cell_type": "markdown",
   "metadata": {},
   "source": [
    "在命令行中输入: \n",
    "\n",
    "> tensorboard –-logdir 'logs/'\n",
    "\n",
    "打开：http://localhost:6006 即可看到刚才打印出来的log"
   ]
  },
  {
   "cell_type": "code",
   "execution_count": null,
   "metadata": {},
   "outputs": [],
   "source": []
  }
 ],
 "metadata": {
  "kernelspec": {
   "display_name": "Python 2",
   "language": "python",
   "name": "python2"
  },
  "language_info": {
   "codemirror_mode": {
    "name": "ipython",
    "version": 2
   },
   "file_extension": ".py",
   "mimetype": "text/x-python",
   "name": "python",
   "nbconvert_exporter": "python",
   "pygments_lexer": "ipython2",
   "version": "2.7.18"
  }
 },
 "nbformat": 4,
 "nbformat_minor": 2
}
