{
 "cells": [
  {
   "cell_type": "markdown",
   "metadata": {},
   "source": [
    "# Tensor的构建\n",
    "\n",
    "tf中的基本单元是tensor，我们在构建整个计算图的时候，都是与tensor打交道。\n",
    "\n",
    "每个tensor都可以有一个**名称**，作为这个tensor的标识。\n",
    "\n",
    "你可以将tensor简单理解为向量（张量），与深度学习一致，你要操作的就是向量。\n",
    "\n",
    "**矩阵**也是向量的一种！！！\n",
    "\n",
    "考虑以下情形：\n",
    "\n",
    "1. 普通向量a = [1, 2, 3]，我们说它是一个向量。\n",
    "2. 嵌套向量b = [[1], [2], [3]],我们说它是一个3 * 1的矩阵。\n",
    "\n",
    "以上两种在tf中没有任何区别，统一称作tensor。只不过形状不同而已。\n",
    "\n",
    "既然大家都是向量，那么一些基本运算都是可以支持的。\n",
    "\n",
    "本节就带大家看看如何在tf中使用这些招式。"
   ]
  },
  {
   "cell_type": "code",
   "execution_count": null,
   "metadata": {},
   "outputs": [],
   "source": [
    "import tensorflow as tf"
   ]
  },
  {
   "cell_type": "code",
   "execution_count": null,
   "metadata": {},
   "outputs": [],
   "source": [
    "sess = tf.Session()"
   ]
  },
  {
   "cell_type": "markdown",
   "metadata": {},
   "source": [
    "# 常量\n",
    "tensorflow 如何构建常量呢？有以下几种方式：\n",
    "\n",
    "1. 从列表构建常量\n",
    "2. 构建指定形状0常量\n",
    "3. 构建指定形状1变量\n",
    "4. 从一定范围内生成一个等差序列\n",
    "5. 创建随机常量\n",
    "6. 创建单位矩阵\n",
    "7. 从已有常量创建一个常量\n",
    "8. 填充张量\n",
    "\n",
    "总之，有什么需求直接百度就行了，这里仅列出几种常用的。"
   ]
  },
  {
   "cell_type": "code",
   "execution_count": null,
   "metadata": {},
   "outputs": [],
   "source": [
    "# 1.构建常量\n",
    "constant = tf.constant([1, 2, 3])\n",
    "\n",
    "# 2.构建10 * 10的所有元素为0的常量\n",
    "zeros = tf.zeros([10, 10])\n",
    "\n",
    "# 3.构建10 * 10的所有元素为1的常量\n",
    "ones = tf.ones([10, 10])\n",
    "\n",
    "# 4.在一定范围内生成一个从初值到终值等差排布的序列\n",
    "lines = tf.linspace(2.0, 5.0, 5)\n",
    "\n",
    "# 5.创建满足分布的随机量\n",
    "randoms = tf.random_normal([2, 3], mean = 2.0, stddev = 4, seed = 12)\n",
    "\n",
    "# 6.创建一个单位矩阵\n",
    "eye = tf.eye(5)\n",
    "\n",
    "# 7.从已有常量创建一个常量\n",
    "randoms_copy = tf.zeros_like(randoms)\n",
    "\n",
    "# 8.填充张量\n",
    "fill_tensor = tf.fill([2, 3], 5.0)"
   ]
  },
  {
   "cell_type": "code",
   "execution_count": null,
   "metadata": {},
   "outputs": [],
   "source": [
    "sess.run(constant)\n",
    "sess.run(zeros)\n",
    "sess.run(ones)\n",
    "sess.run(lines)\n",
    "sess.run(randoms)\n",
    "sess.run(eye)\n",
    "sess.run(randoms_copy)\n",
    "sess.run(fill_tensor)"
   ]
  },
  {
   "cell_type": "markdown",
   "metadata": {},
   "source": [
    "# 变量\n",
    "\n",
    "tensorflow也可以构造变量，变量顾名思议，就是在图的运行过程中可以改变的量\n",
    "\n",
    "变量构造时，需要对其进行初始化，一般都随机初始化。\n",
    "\n",
    "变量可以用作tf计算图中的权重，最终通过梯度下降，将其更新到合适的值\n"
   ]
  },
  {
   "cell_type": "code",
   "execution_count": null,
   "metadata": {},
   "outputs": [],
   "source": [
    "# 构造权重\n",
    "weights = tf.Variable(tf.random_normal([100, 100], stddev = 2), name = 'weights')\n",
    "# 构造偏置\n",
    "bias = tf.Variable(tf.zeros(100), name = 'bias')"
   ]
  },
  {
   "cell_type": "markdown",
   "metadata": {},
   "source": [
    "变量虽然定义了，且指明了初始化方法，但实际上还没有进行初始化。\n",
    "\n",
    "需要显示地对所有变量进行初始化"
   ]
  },
  {
   "cell_type": "code",
   "execution_count": null,
   "metadata": {},
   "outputs": [],
   "source": [
    "# 可以直接对变量本身进行操作,操作后就可以看到这个变量的值\n",
    "sess.run(weights.initializer)\n",
    "sess.run(weights)"
   ]
  },
  {
   "cell_type": "code",
   "execution_count": null,
   "metadata": {},
   "outputs": [],
   "source": [
    "# 当然也可以一把将所有的变量进行初始化\n",
    "initial_op = tf.global_variables_initializer()\n",
    "sess.run(initial_op)"
   ]
  },
  {
   "cell_type": "markdown",
   "metadata": {},
   "source": [
    "**只有初始化之后才能打印出变量的值**"
   ]
  },
  {
   "cell_type": "code",
   "execution_count": null,
   "metadata": {
    "scrolled": true
   },
   "outputs": [],
   "source": [
    "sess.run(weights)\n",
    "sess.run(bias)"
   ]
  },
  {
   "cell_type": "markdown",
   "metadata": {},
   "source": [
    "# 占位符\n",
    "\n",
    "想象一下，整张图里面的数据怎么流入？\n",
    "\n",
    "由于要先搭建图形，而这时候我们根本就没有获得数据，那么应该让谁来充当这个数据角色呢？\n",
    "\n",
    "这时候就要用到占位符"
   ]
  },
  {
   "cell_type": "code",
   "execution_count": null,
   "metadata": {},
   "outputs": [],
   "source": [
    "# 定义一个占位符\n",
    "input_data = tf.placeholder(dtype = tf.float32,shape=None,name=None)\n",
    "\n",
    "# 构造一个图\n",
    "y = 2 * input_data\n",
    "\n",
    "# 随机一些数据,并将它的值拿出来\n",
    "data = tf.random_uniform([4, 5], 10)\n",
    "data = sess.run(data)\n",
    "\n",
    "# 现在如何run出y的值呢？\n",
    "# 直接去run(y),而由于y依赖了一个placeholder，因此需要对它进行数据填充\n",
    "# 用feed_dict = {'placeholder变量':'数据'} 参数对数据进行输入\n",
    "sess.run(y, feed_dict = {input_data:data})"
   ]
  },
  {
   "cell_type": "code",
   "execution_count": null,
   "metadata": {},
   "outputs": [],
   "source": []
  },
  {
   "cell_type": "code",
   "execution_count": null,
   "metadata": {},
   "outputs": [],
   "source": []
  }
 ],
 "metadata": {
  "kernelspec": {
   "display_name": "Python 2",
   "language": "python",
   "name": "python2"
  },
  "language_info": {
   "codemirror_mode": {
    "name": "ipython",
    "version": 2
   },
   "file_extension": ".py",
   "mimetype": "text/x-python",
   "name": "python",
   "nbconvert_exporter": "python",
   "pygments_lexer": "ipython2",
   "version": "2.7.18"
  }
 },
 "nbformat": 4,
 "nbformat_minor": 2
}
