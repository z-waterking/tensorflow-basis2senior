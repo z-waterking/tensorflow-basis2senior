{
 "cells": [
  {
   "cell_type": "markdown",
   "metadata": {},
   "source": [
    "# 第一个tf程序\n",
    "\n",
    "在这里，我们开启第一个tf程序\n",
    "\n",
    "tf的运行方式是先构造计算图，因此，主要流程为：\n",
    "\n",
    "1. 将整个计算流程图完全搭建好。\n",
    "2. 构建session\n",
    "3. 通过session运行流程图\n",
    "\n",
    "**清注意：** 在构建图的过程中，所有的内容对你都是不可见的，只有用session运行之后，才能看到整个数据流真实的过程。\n",
    "\n",
    "**建议：** 在写tf代码时，尽可能将关键结点写上注释，例如变量的形状、数据类型之类的，不然回头看时会很痛苦。"
   ]
  },
  {
   "cell_type": "code",
   "execution_count": 3,
   "metadata": {},
   "outputs": [],
   "source": [
    "import tensorflow as tf"
   ]
  },
  {
   "cell_type": "code",
   "execution_count": 4,
   "metadata": {},
   "outputs": [],
   "source": [
    "# 通过tf.constant创建一个常量，这就是我们的图\n",
    "message = tf.constant('Hello World!')"
   ]
  },
  {
   "cell_type": "code",
   "execution_count": 5,
   "metadata": {},
   "outputs": [],
   "source": [
    "# 构建session\n",
    "sess = tf.Session()"
   ]
  },
  {
   "cell_type": "code",
   "execution_count": 7,
   "metadata": {},
   "outputs": [
    {
     "data": {
      "text/plain": [
       "'Welcome to the exciting world of Deep Neural Networks!'"
      ]
     },
     "execution_count": 7,
     "metadata": {},
     "output_type": "execute_result"
    }
   ],
   "source": [
    "# run，看一下message结点的结果\n",
    "sess.run(message)"
   ]
  }
 ],
 "metadata": {
  "kernelspec": {
   "display_name": "Python 2",
   "language": "python",
   "name": "python2"
  },
  "language_info": {
   "codemirror_mode": {
    "name": "ipython",
    "version": 2
   },
   "file_extension": ".py",
   "mimetype": "text/x-python",
   "name": "python",
   "nbconvert_exporter": "python",
   "pygments_lexer": "ipython2",
   "version": "2.7.18"
  }
 },
 "nbformat": 4,
 "nbformat_minor": 2
}
